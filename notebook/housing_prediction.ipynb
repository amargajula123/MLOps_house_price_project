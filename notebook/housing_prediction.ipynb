{
 "cells": [
  {
   "cell_type": "code",
   "execution_count": 1,
   "metadata": {},
   "outputs": [],
   "source": [
    "from housing.entity.housing_predictor import HousingData"
   ]
  },
  {
   "cell_type": "code",
   "execution_count": 8,
   "metadata": {},
   "outputs": [],
   "source": [
    "# data = -118.28,34.02,29.0,515.0,229.0,2690.0,217.0,0.4999,500001.0,<1H OCEAN\n",
    "predict = HousingData(\n",
    "    -118.28,34.02,29.0,515.0,229.0,2690.0,217.0,0.4999,'<1H OCEAN')"
   ]
  },
  {
   "cell_type": "code",
   "execution_count": 9,
   "metadata": {},
   "outputs": [
    {
     "data": {
      "text/plain": [
       "{'longitude': [-118.28],\n",
       " 'latitude': [34.02],\n",
       " 'housing_median_age': [29.0],\n",
       " 'total_rooms': [515.0],\n",
       " 'total_bedrooms': [229.0],\n",
       " 'population': [2690.0],\n",
       " 'households': [217.0],\n",
       " 'median_income': [0.4999],\n",
       " 'ocean_proximity': ['<1H OCEAN']}"
      ]
     },
     "execution_count": 9,
     "metadata": {},
     "output_type": "execute_result"
    }
   ],
   "source": [
    "predict.get_housing_data_as_dict()"
   ]
  },
  {
   "cell_type": "code",
   "execution_count": 11,
   "metadata": {},
   "outputs": [],
   "source": [
    "df = predict.get_housing_input_data_frame()"
   ]
  },
  {
   "cell_type": "code",
   "execution_count": 12,
   "metadata": {},
   "outputs": [
    {
     "data": {
      "text/html": [
       "<div>\n",
       "<style scoped>\n",
       "    .dataframe tbody tr th:only-of-type {\n",
       "        vertical-align: middle;\n",
       "    }\n",
       "\n",
       "    .dataframe tbody tr th {\n",
       "        vertical-align: top;\n",
       "    }\n",
       "\n",
       "    .dataframe thead th {\n",
       "        text-align: right;\n",
       "    }\n",
       "</style>\n",
       "<table border=\"1\" class=\"dataframe\">\n",
       "  <thead>\n",
       "    <tr style=\"text-align: right;\">\n",
       "      <th></th>\n",
       "      <th>longitude</th>\n",
       "      <th>latitude</th>\n",
       "      <th>housing_median_age</th>\n",
       "      <th>total_rooms</th>\n",
       "      <th>total_bedrooms</th>\n",
       "      <th>population</th>\n",
       "      <th>households</th>\n",
       "      <th>median_income</th>\n",
       "      <th>ocean_proximity</th>\n",
       "    </tr>\n",
       "  </thead>\n",
       "  <tbody>\n",
       "    <tr>\n",
       "      <th>0</th>\n",
       "      <td>-118.28</td>\n",
       "      <td>34.02</td>\n",
       "      <td>29.0</td>\n",
       "      <td>515.0</td>\n",
       "      <td>229.0</td>\n",
       "      <td>2690.0</td>\n",
       "      <td>217.0</td>\n",
       "      <td>0.4999</td>\n",
       "      <td>&lt;1H OCEAN</td>\n",
       "    </tr>\n",
       "  </tbody>\n",
       "</table>\n",
       "</div>"
      ],
      "text/plain": [
       "   longitude  latitude  ...  median_income  ocean_proximity\n",
       "0    -118.28     34.02  ...         0.4999        <1H OCEAN\n",
       "\n",
       "[1 rows x 9 columns]"
      ]
     },
     "execution_count": 12,
     "metadata": {},
     "output_type": "execute_result"
    }
   ],
   "source": [
    "df"
   ]
  },
  {
   "cell_type": "code",
   "execution_count": 13,
   "metadata": {},
   "outputs": [],
   "source": [
    "from housing.entity.housing_predictor import HousingPredictor"
   ]
  },
  {
   "cell_type": "code",
   "execution_count": 18,
   "metadata": {},
   "outputs": [],
   "source": [
    "model_path = r\"D:\\ML\\MLOps_house_price_project\\housing\\artifact\\data_transformation\\2025-02-24-14-52-37\\preprocessed\\preprocessed.pkl\""
   ]
  },
  {
   "cell_type": "code",
   "execution_count": 20,
   "metadata": {},
   "outputs": [],
   "source": [
    "housing_pred = HousingPredictor(model_dir=model_path)"
   ]
  },
  {
   "cell_type": "code",
   "execution_count": 21,
   "metadata": {},
   "outputs": [
    {
     "ename": "HousingException",
     "evalue": "\n        Error occured in script:\n        [D:\\ML\\MLOps_house_price_project\\housing\\entity\\housing_predictor.py] at \n        try block line number: [83] and exception block line number: [88] \n        error message: [\n        Error occured in script:\n        [D:\\ML\\MLOps_house_price_project\\housing\\entity\\housing_predictor.py] at \n        try block line number: [73] and exception block line number: [79] \n        error message: [[WinError 267] The directory name is invalid: 'D:\\\\ML\\\\MLOps_house_price_project\\\\housing\\\\artifact\\\\data_transformation\\\\2025-02-24-14-52-37\\\\preprocessed\\\\preprocessed.pkl']\n        \n        ]\n        \n        ",
     "output_type": "error",
     "traceback": [
      "\u001b[1;31m---------------------------------------------------------------------------\u001b[0m",
      "\u001b[1;31mNotADirectoryError\u001b[0m                        Traceback (most recent call last)",
      "File \u001b[1;32mD:\\ML\\MLOps_house_price_project\\housing\\entity\\housing_predictor.py:73\u001b[0m, in \u001b[0;36mHousingPredictor.get_latest_model_path\u001b[1;34m(self)\u001b[0m\n\u001b[0;32m     72\u001b[0m \u001b[38;5;28;01mtry\u001b[39;00m:\n\u001b[1;32m---> 73\u001b[0m     folder_name \u001b[38;5;241m=\u001b[39m \u001b[38;5;28mlist\u001b[39m(\u001b[38;5;28mmap\u001b[39m(\u001b[38;5;28mint\u001b[39m, \u001b[43mos\u001b[49m\u001b[38;5;241;43m.\u001b[39;49m\u001b[43mlistdir\u001b[49m\u001b[43m(\u001b[49m\u001b[38;5;28;43mself\u001b[39;49m\u001b[38;5;241;43m.\u001b[39;49m\u001b[43mmodel_dir\u001b[49m\u001b[43m)\u001b[49m))\n\u001b[0;32m     74\u001b[0m     latest_model_dir \u001b[38;5;241m=\u001b[39m os\u001b[38;5;241m.\u001b[39mpath\u001b[38;5;241m.\u001b[39mjoin(\u001b[38;5;28mself\u001b[39m\u001b[38;5;241m.\u001b[39mmodel_dir, \u001b[38;5;124mf\u001b[39m\u001b[38;5;124m\"\u001b[39m\u001b[38;5;132;01m{\u001b[39;00m\u001b[38;5;28mmax\u001b[39m(folder_name)\u001b[38;5;132;01m}\u001b[39;00m\u001b[38;5;124m\"\u001b[39m)\n",
      "\u001b[1;31mNotADirectoryError\u001b[0m: [WinError 267] The directory name is invalid: 'D:\\\\ML\\\\MLOps_house_price_project\\\\housing\\\\artifact\\\\data_transformation\\\\2025-02-24-14-52-37\\\\preprocessed\\\\preprocessed.pkl'",
      "\nThe above exception was the direct cause of the following exception:\n",
      "\u001b[1;31mHousingException\u001b[0m                          Traceback (most recent call last)",
      "File \u001b[1;32mD:\\ML\\MLOps_house_price_project\\housing\\entity\\housing_predictor.py:83\u001b[0m, in \u001b[0;36mHousingPredictor.predict\u001b[1;34m(self, X)\u001b[0m\n\u001b[0;32m     82\u001b[0m \u001b[38;5;28;01mtry\u001b[39;00m:\n\u001b[1;32m---> 83\u001b[0m     model_path \u001b[38;5;241m=\u001b[39m \u001b[38;5;28;43mself\u001b[39;49m\u001b[38;5;241;43m.\u001b[39;49m\u001b[43mget_latest_model_path\u001b[49m\u001b[43m(\u001b[49m\u001b[43m)\u001b[49m\n\u001b[0;32m     84\u001b[0m     model \u001b[38;5;241m=\u001b[39m load_object(file_path\u001b[38;5;241m=\u001b[39mmodel_path)\n",
      "File \u001b[1;32mD:\\ML\\MLOps_house_price_project\\housing\\entity\\housing_predictor.py:79\u001b[0m, in \u001b[0;36mHousingPredictor.get_latest_model_path\u001b[1;34m(self)\u001b[0m\n\u001b[0;32m     78\u001b[0m \u001b[38;5;28;01mexcept\u001b[39;00m \u001b[38;5;167;01mException\u001b[39;00m \u001b[38;5;28;01mas\u001b[39;00m e:\n\u001b[1;32m---> 79\u001b[0m     \u001b[38;5;28;01mraise\u001b[39;00m HousingException(e, sys) \u001b[38;5;28;01mfrom\u001b[39;00m\u001b[38;5;250m \u001b[39m\u001b[38;5;21;01me\u001b[39;00m\n",
      "\u001b[1;31mHousingException\u001b[0m: \n        Error occured in script:\n        [D:\\ML\\MLOps_house_price_project\\housing\\entity\\housing_predictor.py] at \n        try block line number: [73] and exception block line number: [79] \n        error message: [[WinError 267] The directory name is invalid: 'D:\\\\ML\\\\MLOps_house_price_project\\\\housing\\\\artifact\\\\data_transformation\\\\2025-02-24-14-52-37\\\\preprocessed\\\\preprocessed.pkl']\n        \n        ",
      "\nThe above exception was the direct cause of the following exception:\n",
      "\u001b[1;31mHousingException\u001b[0m                          Traceback (most recent call last)",
      "Cell \u001b[1;32mIn[21], line 1\u001b[0m\n\u001b[1;32m----> 1\u001b[0m \u001b[43mhousing_pred\u001b[49m\u001b[38;5;241;43m.\u001b[39;49m\u001b[43mpredict\u001b[49m\u001b[43m(\u001b[49m\u001b[43mdf\u001b[49m\u001b[43m)\u001b[49m\n",
      "File \u001b[1;32mD:\\ML\\MLOps_house_price_project\\housing\\entity\\housing_predictor.py:88\u001b[0m, in \u001b[0;36mHousingPredictor.predict\u001b[1;34m(self, X)\u001b[0m\n\u001b[0;32m     86\u001b[0m     \u001b[38;5;28;01mreturn\u001b[39;00m median_house_value\n\u001b[0;32m     87\u001b[0m \u001b[38;5;28;01mexcept\u001b[39;00m \u001b[38;5;167;01mException\u001b[39;00m \u001b[38;5;28;01mas\u001b[39;00m e:\n\u001b[1;32m---> 88\u001b[0m     \u001b[38;5;28;01mraise\u001b[39;00m HousingException(e, sys) \u001b[38;5;28;01mfrom\u001b[39;00m\u001b[38;5;250m \u001b[39m\u001b[38;5;21;01me\u001b[39;00m\n",
      "\u001b[1;31mHousingException\u001b[0m: \n        Error occured in script:\n        [D:\\ML\\MLOps_house_price_project\\housing\\entity\\housing_predictor.py] at \n        try block line number: [83] and exception block line number: [88] \n        error message: [\n        Error occured in script:\n        [D:\\ML\\MLOps_house_price_project\\housing\\entity\\housing_predictor.py] at \n        try block line number: [73] and exception block line number: [79] \n        error message: [[WinError 267] The directory name is invalid: 'D:\\\\ML\\\\MLOps_house_price_project\\\\housing\\\\artifact\\\\data_transformation\\\\2025-02-24-14-52-37\\\\preprocessed\\\\preprocessed.pkl']\n        \n        ]\n        \n        "
     ]
    }
   ],
   "source": [
    "housing_pred.predict(df)"
   ]
  },
  {
   "cell_type": "code",
   "execution_count": null,
   "metadata": {},
   "outputs": [],
   "source": []
  }
 ],
 "metadata": {
  "kernelspec": {
   "display_name": "Python 3",
   "language": "python",
   "name": "python3"
  },
  "language_info": {
   "codemirror_mode": {
    "name": "ipython",
    "version": 3
   },
   "file_extension": ".py",
   "mimetype": "text/x-python",
   "name": "python",
   "nbconvert_exporter": "python",
   "pygments_lexer": "ipython3",
   "version": "3.9.0"
  }
 },
 "nbformat": 4,
 "nbformat_minor": 2
}
