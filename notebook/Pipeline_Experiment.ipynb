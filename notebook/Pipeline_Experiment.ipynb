{
 "cells": [
  {
   "cell_type": "code",
   "execution_count": 1,
   "metadata": {},
   "outputs": [],
   "source": [
    "import os"
   ]
  },
  {
   "cell_type": "code",
   "execution_count": 2,
   "metadata": {},
   "outputs": [],
   "source": [
    "os.chdir(os.pardir)"
   ]
  },
  {
   "cell_type": "code",
   "execution_count": 3,
   "metadata": {},
   "outputs": [
    {
     "data": {
      "text/plain": [
       "'d:\\\\ML\\\\MLOps_house_price_project'"
      ]
     },
     "execution_count": 3,
     "metadata": {},
     "output_type": "execute_result"
    }
   ],
   "source": [
    "pwd"
   ]
  },
  {
   "cell_type": "code",
   "execution_count": 4,
   "metadata": {},
   "outputs": [
    {
     "data": {
      "text/plain": [
       "'d:\\\\ML\\\\MLOps_house_price_project'"
      ]
     },
     "execution_count": 4,
     "metadata": {},
     "output_type": "execute_result"
    }
   ],
   "source": [
    "pwd"
   ]
  },
  {
   "cell_type": "code",
   "execution_count": 5,
   "metadata": {},
   "outputs": [],
   "source": [
    "os.chdir(\"d:\\\\ML\\\\MLOps_house_price_project\\\\\")"
   ]
  },
  {
   "cell_type": "code",
   "execution_count": 6,
   "metadata": {},
   "outputs": [
    {
     "data": {
      "text/plain": [
       "'d:\\\\ML\\\\MLOps_house_price_project'"
      ]
     },
     "execution_count": 6,
     "metadata": {},
     "output_type": "execute_result"
    }
   ],
   "source": [
    "pwd"
   ]
  },
  {
   "cell_type": "code",
   "execution_count": 7,
   "metadata": {},
   "outputs": [
    {
     "name": "stdout",
     "output_type": "stream",
     "text": [
      "housing_logs\\log_2025-03-08_20-52-34.log\n"
     ]
    }
   ],
   "source": [
    "from housing.pipeline.pipeline import Pipeline"
   ]
  },
  {
   "cell_type": "code",
   "execution_count": 9,
   "metadata": {},
   "outputs": [],
   "source": [
    "from housing.config.configuration import Configuration"
   ]
  },
  {
   "cell_type": "code",
   "execution_count": 10,
   "metadata": {},
   "outputs": [],
   "source": [
    "config_file_path=\"D:\\ML\\MLOps_house_price_project\\config\\config.yaml\""
   ]
  },
  {
   "cell_type": "code",
   "execution_count": 11,
   "metadata": {},
   "outputs": [],
   "source": [
    "config = Configuration(config_file_path=config_file_path)"
   ]
  },
  {
   "cell_type": "code",
   "execution_count": 12,
   "metadata": {},
   "outputs": [
    {
     "data": {
      "text/plain": [
       "TrainingPipelineConfig(artifact_dir='d:\\\\ML\\\\MLOps_house_price_project\\\\housing\\\\artifact')"
      ]
     },
     "execution_count": 12,
     "metadata": {},
     "output_type": "execute_result"
    }
   ],
   "source": [
    "config.get_training_pipeline_config()"
   ]
  },
  {
   "cell_type": "code",
   "execution_count": 13,
   "metadata": {},
   "outputs": [
    {
     "data": {
      "text/plain": [
       "'d:\\\\ML\\\\MLOps_house_price_project\\\\housing\\\\artifact'"
      ]
     },
     "execution_count": 13,
     "metadata": {},
     "output_type": "execute_result"
    }
   ],
   "source": [
    "config.training_pipeline_config.artifact_dir"
   ]
  },
  {
   "cell_type": "code",
   "execution_count": 14,
   "metadata": {},
   "outputs": [],
   "source": [
    "pipeline = Pipeline(config=config)"
   ]
  },
  {
   "cell_type": "code",
   "execution_count": 15,
   "metadata": {},
   "outputs": [
    {
     "data": {
      "text/plain": [
       "Experiment(experiment_id=None, initialization_timestamp=None, artifact_time_stamp=None, running_status=None, start_time=None, stop_time=None, execution_time=None, message=None, experiment_file_path=None, accuracy=None, is_model_accepted=None)"
      ]
     },
     "execution_count": 15,
     "metadata": {},
     "output_type": "execute_result"
    }
   ],
   "source": [
    "pipeline.experiment"
   ]
  },
  {
   "cell_type": "code",
   "execution_count": 16,
   "metadata": {},
   "outputs": [
    {
     "data": {
      "text/plain": [
       "Experiment(experiment_id=None, initialization_timestamp=None, artifact_time_stamp=None, running_status=None, start_time=None, stop_time=None, execution_time=None, message=None, experiment_file_path=None, accuracy=None, is_model_accepted=None)"
      ]
     },
     "execution_count": 16,
     "metadata": {},
     "output_type": "execute_result"
    }
   ],
   "source": [
    "Pipeline.experiment"
   ]
  },
  {
   "cell_type": "code",
   "execution_count": 17,
   "metadata": {},
   "outputs": [],
   "source": [
    "pipeline1 = Pipeline(config=config)"
   ]
  },
  {
   "cell_type": "code",
   "execution_count": 18,
   "metadata": {},
   "outputs": [
    {
     "data": {
      "text/plain": [
       "Experiment(experiment_id=None, initialization_timestamp=None, artifact_time_stamp=None, running_status=None, start_time=None, stop_time=None, execution_time=None, message=None, experiment_file_path=None, accuracy=None, is_model_accepted=None)"
      ]
     },
     "execution_count": 18,
     "metadata": {},
     "output_type": "execute_result"
    }
   ],
   "source": [
    "pipeline1.experiment"
   ]
  },
  {
   "cell_type": "code",
   "execution_count": null,
   "metadata": {},
   "outputs": [
    {
     "name": "stdout",
     "output_type": "stream",
     "text": [
      "{'fit_intercept': True}\n",
      "{'min_samples_leaf': 3}\n",
      "{'cv': 5, 'verbose': 2}\n",
      "Fitting 5 folds for each of 2 candidates, totalling 10 fits\n",
      "[CV] END .................................fit_intercept=True; total time=   0.0s\n",
      "[CV] END .................................fit_intercept=True; total time=   0.0s\n",
      "[CV] END .................................fit_intercept=True; total time=   0.0s\n",
      "[CV] END .................................fit_intercept=True; total time=   0.0s\n",
      "[CV] END .................................fit_intercept=True; total time=   0.0s\n",
      "[CV] END ................................fit_intercept=False; total time=   0.0s\n",
      "[CV] END ................................fit_intercept=False; total time=   0.0s\n",
      "[CV] END ................................fit_intercept=False; total time=   0.0s\n",
      "[CV] END ................................fit_intercept=False; total time=   0.0s\n",
      "[CV] END ................................fit_intercept=False; total time=   0.0s\n",
      "{'cv': 5, 'verbose': 2}\n",
      "Fitting 5 folds for each of 2 candidates, totalling 10 fits\n"
     ]
    }
   ],
   "source": [
    "pipeline1.start()"
   ]
  },
  {
   "cell_type": "code",
   "execution_count": 20,
   "metadata": {},
   "outputs": [
    {
     "data": {
      "text/plain": [
       "Experiment(experiment_id='360f7b15-a632-4474-8a00-00d1abe1169c', initialization_timestamp='2025-03-08-20-52-35', artifact_time_stamp='2025-03-08-20-52-35', running_status=True, start_time=datetime.datetime(2025, 3, 8, 20, 53, 21, 228513), stop_time=None, execution_time=None, message='Pipeline has been started.', experiment_file_path='d:\\\\ML\\\\MLOps_house_price_project\\\\housing\\\\artifact\\\\experiment\\\\experiment.csv', accuracy=None, is_model_accepted=None)"
      ]
     },
     "execution_count": 20,
     "metadata": {},
     "output_type": "execute_result"
    },
    {
     "name": "stdout",
     "output_type": "stream",
     "text": [
      "[CV] END .................................min_samples_leaf=4; total time=  12.6s\n"
     ]
    }
   ],
   "source": [
    "pipeline1.experiment"
   ]
  },
  {
   "cell_type": "code",
   "execution_count": 22,
   "metadata": {},
   "outputs": [
    {
     "data": {
      "text/plain": [
       "Experiment(experiment_id='360f7b15-a632-4474-8a00-00d1abe1169c', initialization_timestamp='2025-03-08-20-52-35', artifact_time_stamp='2025-03-08-20-52-35', running_status=True, start_time=datetime.datetime(2025, 3, 8, 20, 53, 21, 228513), stop_time=None, execution_time=None, message='Pipeline has been started.', experiment_file_path='d:\\\\ML\\\\MLOps_house_price_project\\\\housing\\\\artifact\\\\experiment\\\\experiment.csv', accuracy=None, is_model_accepted=None)"
      ]
     },
     "execution_count": 22,
     "metadata": {},
     "output_type": "execute_result"
    },
    {
     "name": "stdout",
     "output_type": "stream",
     "text": [
      "[CV] END .................................min_samples_leaf=4; total time=  14.4s\n"
     ]
    }
   ],
   "source": [
    "pipeline.experiment"
   ]
  },
  {
   "cell_type": "code",
   "execution_count": 23,
   "metadata": {},
   "outputs": [],
   "source": [
    "pipeline.start()"
   ]
  },
  {
   "cell_type": "code",
   "execution_count": 25,
   "metadata": {},
   "outputs": [
    {
     "data": {
      "text/plain": [
       "Experiment(experiment_id='360f7b15-a632-4474-8a00-00d1abe1169c', initialization_timestamp='2025-03-08-20-52-35', artifact_time_stamp='2025-03-08-20-52-35', running_status=True, start_time=datetime.datetime(2025, 3, 8, 20, 53, 21, 228513), stop_time=None, execution_time=None, message='Pipeline has been started.', experiment_file_path='d:\\\\ML\\\\MLOps_house_price_project\\\\housing\\\\artifact\\\\experiment\\\\experiment.csv', accuracy=None, is_model_accepted=None)"
      ]
     },
     "execution_count": 25,
     "metadata": {},
     "output_type": "execute_result"
    },
    {
     "name": "stdout",
     "output_type": "stream",
     "text": [
      "[CV] END .................................min_samples_leaf=6; total time=  16.3s\n"
     ]
    }
   ],
   "source": [
    "pipeline.run_pipeline()"
   ]
  },
  {
   "cell_type": "code",
   "execution_count": null,
   "metadata": {},
   "outputs": [],
   "source": []
  },
  {
   "cell_type": "code",
   "execution_count": 26,
   "metadata": {},
   "outputs": [
    {
     "data": {
      "text/plain": [
       "Experiment(experiment_id='360f7b15-a632-4474-8a00-00d1abe1169c', initialization_timestamp='2025-03-08-20-52-35', artifact_time_stamp='2025-03-08-20-52-35', running_status=True, start_time=datetime.datetime(2025, 3, 8, 20, 53, 21, 228513), stop_time=None, execution_time=None, message='Pipeline has been started.', experiment_file_path='d:\\\\ML\\\\MLOps_house_price_project\\\\housing\\\\artifact\\\\experiment\\\\experiment.csv', accuracy=None, is_model_accepted=None)"
      ]
     },
     "execution_count": 26,
     "metadata": {},
     "output_type": "execute_result"
    }
   ],
   "source": [
    "Pipeline.experiment"
   ]
  },
  {
   "cell_type": "code",
   "execution_count": 29,
   "metadata": {},
   "outputs": [
    {
     "data": {
      "text/plain": [
       "Experiment(experiment_id='a2e1cc8c-d00a-4a22-8bc7-5193c507905c', initialization_timestamp='2025-03-08-20-52-35', artifact_time_stamp='2025-03-08-20-52-35', running_status=True, start_time=datetime.datetime(2025, 3, 8, 20, 57, 0, 472761), stop_time=None, execution_time=None, message='Pipeline has been started.', experiment_file_path='d:\\\\ML\\\\MLOps_house_price_project\\\\housing\\\\artifact\\\\experiment\\\\experiment.csv', accuracy=None, is_model_accepted=None)"
      ]
     },
     "execution_count": 29,
     "metadata": {},
     "output_type": "execute_result"
    }
   ],
   "source": [
    "Pipeline.experiment"
   ]
  },
  {
   "cell_type": "code",
   "execution_count": 30,
   "metadata": {},
   "outputs": [
    {
     "data": {
      "text/plain": [
       "'d:\\\\ML\\\\MLOps_house_price_project\\\\housing\\\\artifact\\\\experiment\\\\experiment.csv'"
      ]
     },
     "execution_count": 30,
     "metadata": {},
     "output_type": "execute_result"
    }
   ],
   "source": [
    "Pipeline.experiment.experiment_file_path"
   ]
  },
  {
   "cell_type": "code",
   "execution_count": null,
   "metadata": {},
   "outputs": [],
   "source": [
    "pipeline.run_pipeline()"
   ]
  },
  {
   "cell_type": "code",
   "execution_count": 36,
   "metadata": {},
   "outputs": [
    {
     "data": {
      "text/plain": [
       "6"
      ]
     },
     "execution_count": 36,
     "metadata": {},
     "output_type": "execute_result"
    }
   ],
   "source": [
    "limit: int = 6\n",
    "limit = -1 * int(limit)\n",
    "6"
   ]
  },
  {
   "cell_type": "code",
   "execution_count": 14,
   "metadata": {},
   "outputs": [],
   "source": [
    "con = Configuration()"
   ]
  },
  {
   "cell_type": "code",
   "execution_count": 16,
   "metadata": {},
   "outputs": [
    {
     "data": {
      "text/plain": [
       "'d:\\\\ML\\\\MLOps_house_price_project\\\\housing\\\\artifact'"
      ]
     },
     "execution_count": 16,
     "metadata": {},
     "output_type": "execute_result"
    }
   ],
   "source": [
    "con.training_pipeline_config.artifact_dir"
   ]
  },
  {
   "cell_type": "code",
   "execution_count": null,
   "metadata": {},
   "outputs": [],
   "source": []
  },
  {
   "cell_type": "code",
   "execution_count": 39,
   "metadata": {},
   "outputs": [],
   "source": [
    "from housing.pipeline.pipeline import Pipeline"
   ]
  },
  {
   "cell_type": "code",
   "execution_count": 41,
   "metadata": {},
   "outputs": [
    {
     "data": {
      "text/html": [
       "<div>\n",
       "<style scoped>\n",
       "    .dataframe tbody tr th:only-of-type {\n",
       "        vertical-align: middle;\n",
       "    }\n",
       "\n",
       "    .dataframe tbody tr th {\n",
       "        vertical-align: top;\n",
       "    }\n",
       "\n",
       "    .dataframe thead th {\n",
       "        text-align: right;\n",
       "    }\n",
       "</style>\n",
       "<table border=\"1\" class=\"dataframe\">\n",
       "  <thead>\n",
       "    <tr style=\"text-align: right;\">\n",
       "      <th></th>\n",
       "      <th>experiment_id</th>\n",
       "      <th>artifact_time_stamp</th>\n",
       "      <th>running_status</th>\n",
       "      <th>start_time</th>\n",
       "      <th>stop_time</th>\n",
       "      <th>execution_time</th>\n",
       "      <th>message</th>\n",
       "      <th>accuracy</th>\n",
       "      <th>is_model_accepted</th>\n",
       "      <th>created_time_stamp</th>\n",
       "    </tr>\n",
       "  </thead>\n",
       "  <tbody>\n",
       "    <tr>\n",
       "      <th>2</th>\n",
       "      <td>ec3507c7-b938-4802-88bf-17584937e983</td>\n",
       "      <td>2025-03-08-16-23-10</td>\n",
       "      <td>True</td>\n",
       "      <td>2025-03-08 16:23:27.516232</td>\n",
       "      <td>NaN</td>\n",
       "      <td>NaN</td>\n",
       "      <td>Pipeline has been started.</td>\n",
       "      <td>NaN</td>\n",
       "      <td>NaN</td>\n",
       "      <td>2025-03-08 16:29:55.496781</td>\n",
       "    </tr>\n",
       "    <tr>\n",
       "      <th>3</th>\n",
       "      <td>d0125cb6-8fb6-4c03-bb13-34edcf200970</td>\n",
       "      <td>2025-03-08-17-18-59</td>\n",
       "      <td>True</td>\n",
       "      <td>2025-03-08 17:19:25.445827</td>\n",
       "      <td>NaN</td>\n",
       "      <td>NaN</td>\n",
       "      <td>Pipeline has been started.</td>\n",
       "      <td>NaN</td>\n",
       "      <td>NaN</td>\n",
       "      <td>2025-03-08 17:19:25.445827</td>\n",
       "    </tr>\n",
       "    <tr>\n",
       "      <th>4</th>\n",
       "      <td>d0125cb6-8fb6-4c03-bb13-34edcf200970</td>\n",
       "      <td>2025-03-08-17-18-59</td>\n",
       "      <td>False</td>\n",
       "      <td>2025-03-08 17:19:25.445827</td>\n",
       "      <td>2025-03-08 17:21:58.847606</td>\n",
       "      <td>0 days 00:02:33.401779</td>\n",
       "      <td>Pipeline has been completed.</td>\n",
       "      <td>0.652281</td>\n",
       "      <td>True</td>\n",
       "      <td>2025-03-08 17:21:58.847606</td>\n",
       "    </tr>\n",
       "    <tr>\n",
       "      <th>5</th>\n",
       "      <td>2bd7c312-9e7a-4799-b4f6-eb811675e3fc</td>\n",
       "      <td>2025-03-08-17-26-02</td>\n",
       "      <td>True</td>\n",
       "      <td>2025-03-08 17:26:39.489436</td>\n",
       "      <td>NaN</td>\n",
       "      <td>NaN</td>\n",
       "      <td>Pipeline has been started.</td>\n",
       "      <td>NaN</td>\n",
       "      <td>NaN</td>\n",
       "      <td>2025-03-08 17:26:39.490561</td>\n",
       "    </tr>\n",
       "    <tr>\n",
       "      <th>6</th>\n",
       "      <td>2bd7c312-9e7a-4799-b4f6-eb811675e3fc</td>\n",
       "      <td>2025-03-08-17-26-02</td>\n",
       "      <td>False</td>\n",
       "      <td>2025-03-08 17:26:39.489436</td>\n",
       "      <td>2025-03-08 17:29:18.390420</td>\n",
       "      <td>0 days 00:02:38.900984</td>\n",
       "      <td>Pipeline has been completed.</td>\n",
       "      <td>0.652281</td>\n",
       "      <td>True</td>\n",
       "      <td>2025-03-08 17:29:18.390420</td>\n",
       "    </tr>\n",
       "    <tr>\n",
       "      <th>7</th>\n",
       "      <td>2fb2865b-996b-4b39-bd5f-0ba3dba46fa3</td>\n",
       "      <td>2025-03-08-17-26-02</td>\n",
       "      <td>True</td>\n",
       "      <td>2025-03-08 17:32:42.676505</td>\n",
       "      <td>NaN</td>\n",
       "      <td>NaN</td>\n",
       "      <td>Pipeline has been started.</td>\n",
       "      <td>NaN</td>\n",
       "      <td>NaN</td>\n",
       "      <td>2025-03-08 17:32:42.676505</td>\n",
       "    </tr>\n",
       "  </tbody>\n",
       "</table>\n",
       "</div>"
      ],
      "text/plain": [
       "                          experiment_id  artifact_time_stamp  running_status  \\\n",
       "2  ec3507c7-b938-4802-88bf-17584937e983  2025-03-08-16-23-10            True   \n",
       "3  d0125cb6-8fb6-4c03-bb13-34edcf200970  2025-03-08-17-18-59            True   \n",
       "4  d0125cb6-8fb6-4c03-bb13-34edcf200970  2025-03-08-17-18-59           False   \n",
       "5  2bd7c312-9e7a-4799-b4f6-eb811675e3fc  2025-03-08-17-26-02            True   \n",
       "6  2bd7c312-9e7a-4799-b4f6-eb811675e3fc  2025-03-08-17-26-02           False   \n",
       "7  2fb2865b-996b-4b39-bd5f-0ba3dba46fa3  2025-03-08-17-26-02            True   \n",
       "\n",
       "                   start_time                   stop_time  \\\n",
       "2  2025-03-08 16:23:27.516232                         NaN   \n",
       "3  2025-03-08 17:19:25.445827                         NaN   \n",
       "4  2025-03-08 17:19:25.445827  2025-03-08 17:21:58.847606   \n",
       "5  2025-03-08 17:26:39.489436                         NaN   \n",
       "6  2025-03-08 17:26:39.489436  2025-03-08 17:29:18.390420   \n",
       "7  2025-03-08 17:32:42.676505                         NaN   \n",
       "\n",
       "           execution_time                       message  accuracy  \\\n",
       "2                     NaN    Pipeline has been started.       NaN   \n",
       "3                     NaN    Pipeline has been started.       NaN   \n",
       "4  0 days 00:02:33.401779  Pipeline has been completed.  0.652281   \n",
       "5                     NaN    Pipeline has been started.       NaN   \n",
       "6  0 days 00:02:38.900984  Pipeline has been completed.  0.652281   \n",
       "7                     NaN    Pipeline has been started.       NaN   \n",
       "\n",
       "  is_model_accepted          created_time_stamp  \n",
       "2               NaN  2025-03-08 16:29:55.496781  \n",
       "3               NaN  2025-03-08 17:19:25.445827  \n",
       "4              True  2025-03-08 17:21:58.847606  \n",
       "5               NaN  2025-03-08 17:26:39.490561  \n",
       "6              True  2025-03-08 17:29:18.390420  \n",
       "7               NaN  2025-03-08 17:32:42.676505  "
      ]
     },
     "execution_count": 41,
     "metadata": {},
     "output_type": "execute_result"
    }
   ],
   "source": [
    "Pipeline.get_experiments_status(limit=6) # d0125cb6-8fb6-4c03-bb13-34edcf200970"
   ]
  },
  {
   "cell_type": "code",
   "execution_count": null,
   "metadata": {},
   "outputs": [],
   "source": []
  }
 ],
 "metadata": {
  "kernelspec": {
   "display_name": "Python 3",
   "language": "python",
   "name": "python3"
  },
  "language_info": {
   "codemirror_mode": {
    "name": "ipython",
    "version": 3
   },
   "file_extension": ".py",
   "mimetype": "text/x-python",
   "name": "python",
   "nbconvert_exporter": "python",
   "pygments_lexer": "ipython3",
   "version": "3.9.0"
  }
 },
 "nbformat": 4,
 "nbformat_minor": 2
}
