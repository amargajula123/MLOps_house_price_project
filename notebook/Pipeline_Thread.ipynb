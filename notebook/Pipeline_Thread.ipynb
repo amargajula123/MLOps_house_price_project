{
 "cells": [
  {
   "cell_type": "code",
   "execution_count": 1,
   "metadata": {},
   "outputs": [],
   "source": [
    "from threading import Thread  "
   ]
  },
  {
   "cell_type": "code",
   "execution_count": 2,
   "metadata": {},
   "outputs": [],
   "source": [
    "import time"
   ]
  },
  {
   "cell_type": "code",
   "execution_count": 3,
   "metadata": {},
   "outputs": [],
   "source": [
    "class DemoThread(Thread):\n",
    "    def __init__(self,*args,**kwargs):\n",
    "        super().__init__(daemon=False,name=\"demo_thread\")\n",
    "    \n",
    "    def print_msg(self):\n",
    "        time.sleep(1)\n",
    "        print(\"I was called by thread\")\n",
    "    \n",
    "    def run(self):\n",
    "        self.print_msg()"
   ]
  },
  {
   "cell_type": "code",
   "execution_count": null,
   "metadata": {},
   "outputs": [
    {
     "name": "stdout",
     "output_type": "stream",
     "text": [
      "Creating object of demo thread\n",
      "Starting demo thread\n",
      "Demo thread started\n",
      "I was called by thread\n",
      "Thread has completed\n"
     ]
    }
   ],
   "source": [
    "print(f\"Creating object of demo thread\")\n",
    "d = DemoThread()\n",
    "print(f\"Starting demo thread\")\n",
    "d.start() # this {\"start()\"} function internally start \"run()\" function this is how \"Thread\" class is designed\n",
    "          # of DemoThread class so the run function will again call internall function of it like {\"print_msg()\"}\n",
    "     \n",
    "print(f\"Demo thread started\")\n",
    "d.join()\n",
    "print(\"Thread has completed\")"
   ]
  },
  {
   "cell_type": "code",
   "execution_count": null,
   "metadata": {},
   "outputs": [
    {
     "name": "stdout",
     "output_type": "stream",
     "text": [
      "Creating object of demo thread\n",
      "Starting demo thread\n",
      "Demo thread started\n",
      "I was called by thread\n",
      "Thread has completed\n"
     ]
    }
   ],
   "source": [
    "# similarly\n",
    "\n",
    "class Pipeline(Thread):\n",
    "    def __init__(self,*args,**kwargs):\n",
    "        super().__init__(daemon=False,name=\"demo_thread\")\n",
    "    \n",
    "    def run_pipeline(self):\n",
    "        time.sleep(1)\n",
    "        print(\"I was called by thread\")\n",
    "    \n",
    "    def run(self):\n",
    "        self.run_pipeline()\n",
    "\n",
    "print(f\"Creating object of demo thread\")  # if we use this Thread class here what happens is our \n",
    "d = Pipeline()                            # traininng will run independently.\n",
    "print(f\"Starting demo thread\")\n",
    "d.start() \n",
    "print(f\"Demo thread started\")\n",
    "d.join()\n",
    "print(\"Thread has completed\")"
   ]
  },
  {
   "cell_type": "code",
   "execution_count": 6,
   "metadata": {},
   "outputs": [],
   "source": [
    "a = Pipeline()"
   ]
  },
  {
   "cell_type": "code",
   "execution_count": null,
   "metadata": {},
   "outputs": [
    {
     "name": "stdout",
     "output_type": "stream",
     "text": [
      "I was called by thread\n"
     ]
    }
   ],
   "source": [
    "a.start()\n",
    "a.join() # it actually wai for other thread "
   ]
  },
  {
   "cell_type": "code",
   "execution_count": 9,
   "metadata": {},
   "outputs": [
    {
     "name": "stdout",
     "output_type": "stream",
     "text": [
      "I am waiting for run_pipeline() to complete its work \n",
      "I was called by thread\n"
     ]
    }
   ],
   "source": [
    "a = Pipeline()\n",
    "a.start()\n",
    "print(\"I am waiting for run_pipeline() to complete its work \")\n",
    "a.join() "
   ]
  },
  {
   "cell_type": "code",
   "execution_count": 10,
   "metadata": {},
   "outputs": [
    {
     "name": "stdout",
     "output_type": "stream",
     "text": [
      "I was called by thread\n",
      "I am waiting for run_pipeline() to complete its work \n"
     ]
    }
   ],
   "source": [
    "a.run_pipeline()\n",
    "print(\"I am waiting for run_pipeline() to complete its work \")"
   ]
  },
  {
   "cell_type": "code",
   "execution_count": null,
   "metadata": {},
   "outputs": [],
   "source": [
    "# why we want this Thread class concept \n",
    "# Ans :=\n",
    "#    becoz i want to achive paralism.\n",
    "#    bcoz i want to execute my code simaltenniously like execute 2 block of code "
   ]
  },
  {
   "cell_type": "code",
   "execution_count": 14,
   "metadata": {},
   "outputs": [],
   "source": [
    "# similarly\n",
    "\n",
    "class Pipeline(Thread):\n",
    "    def __init__(self,*args,**kwargs):\n",
    "        super().__init__(daemon=False,name=\"demo_thread\")\n",
    "    \n",
    "    def run_pipeline(self):\n",
    "        time.sleep(10)\n",
    "        print(\"I was called by thread\")\n",
    "    \n",
    "    def run(self):\n",
    "        self.run_pipeline()"
   ]
  },
  {
   "cell_type": "code",
   "execution_count": 16,
   "metadata": {},
   "outputs": [
    {
     "name": "stdout",
     "output_type": "stream",
     "text": [
      "I am waiting for run_pipeline() to complete its work \n",
      "I was called by thread\n"
     ]
    }
   ],
   "source": [
    "a = Pipeline()\n",
    "a.start()\n",
    "print(\"I am waiting for run_pipeline() to complete its work \")\n",
    "a.join()"
   ]
  },
  {
   "cell_type": "code",
   "execution_count": 17,
   "metadata": {},
   "outputs": [
    {
     "name": "stdout",
     "output_type": "stream",
     "text": [
      "I was called by thread\n",
      "I am waiting for run_pipeline() to complete its work \n"
     ]
    }
   ],
   "source": [
    "a.run_pipeline()\n",
    "print(\"I am waiting for run_pipeline() to complete its work \")"
   ]
  },
  {
   "cell_type": "code",
   "execution_count": null,
   "metadata": {},
   "outputs": [],
   "source": []
  },
  {
   "cell_type": "code",
   "execution_count": null,
   "metadata": {},
   "outputs": [],
   "source": []
  },
  {
   "cell_type": "code",
   "execution_count": 5,
   "metadata": {},
   "outputs": [],
   "source": [
    "from collections import namedtuple\n",
    "Experiment = namedtuple(\"Experiment\", [\"experiment_id\" ,  \"initialization_timestamp\",  \"artifact_time_stamp\" ,\n",
    "                                       \"running_status\",  \"start_time\"              ,  \"stop_time\"           ,  \n",
    "                                       \"execution_time\",  \"message\"                 ,  \"experiment_file_path\",\n",
    "                                       \"accuracy\"      ,  \"is_model_accepted\" \n",
    "                                       ])"
   ]
  },
  {
   "cell_type": "code",
   "execution_count": 6,
   "metadata": {},
   "outputs": [],
   "source": [
    "experiment:Experiment = Experiment(*([None] * 11))\n",
    "    "
   ]
  },
  {
   "cell_type": "code",
   "execution_count": 7,
   "metadata": {},
   "outputs": [
    {
     "data": {
      "text/plain": [
       "Experiment(experiment_id=None, initialization_timestamp=None, artifact_time_stamp=None, running_status=None, start_time=None, stop_time=None, execution_time=None, message=None, experiment_file_path=None, accuracy=None, is_model_accepted=None)"
      ]
     },
     "execution_count": 7,
     "metadata": {},
     "output_type": "execute_result"
    }
   ],
   "source": [
    "experiment"
   ]
  },
  {
   "cell_type": "code",
   "execution_count": 8,
   "metadata": {},
   "outputs": [
    {
     "data": {
      "text/plain": [
       "__main__.Experiment"
      ]
     },
     "execution_count": 8,
     "metadata": {},
     "output_type": "execute_result"
    }
   ],
   "source": [
    "Experiment"
   ]
  },
  {
   "cell_type": "code",
   "execution_count": 9,
   "metadata": {},
   "outputs": [
    {
     "data": {
      "text/plain": [
       "Experiment(experiment_id=None, initialization_timestamp=None, artifact_time_stamp=None, running_status=None, start_time=None, stop_time=None, execution_time=None, message=None, experiment_file_path=None, accuracy=None, is_model_accepted=None)"
      ]
     },
     "execution_count": 9,
     "metadata": {},
     "output_type": "execute_result"
    }
   ],
   "source": [
    "experiment = Experiment(*([None] * 11))\n",
    "experiment"
   ]
  },
  {
   "cell_type": "code",
   "execution_count": 10,
   "metadata": {},
   "outputs": [],
   "source": [
    "import os"
   ]
  },
  {
   "cell_type": "code",
   "execution_count": 11,
   "metadata": {},
   "outputs": [
    {
     "data": {
      "text/plain": [
       "'d:\\\\ML\\\\MLOps_house_price_project'"
      ]
     },
     "execution_count": 11,
     "metadata": {},
     "output_type": "execute_result"
    }
   ],
   "source": [
    "pwd"
   ]
  },
  {
   "cell_type": "code",
   "execution_count": 12,
   "metadata": {},
   "outputs": [],
   "source": [
    "os.chdir(\"d:\\\\ML\\\\MLOps_house_price_project\\\\\")"
   ]
  },
  {
   "cell_type": "code",
   "execution_count": 13,
   "metadata": {},
   "outputs": [
    {
     "data": {
      "text/plain": [
       "'d:\\\\ML\\\\MLOps_house_price_project'"
      ]
     },
     "execution_count": 13,
     "metadata": {},
     "output_type": "execute_result"
    }
   ],
   "source": [
    "pwd"
   ]
  },
  {
   "cell_type": "code",
   "execution_count": 14,
   "metadata": {},
   "outputs": [
    {
     "name": "stdout",
     "output_type": "stream",
     "text": [
      "housing_logs\\log_2025-03-08_16-23-10.log\n"
     ]
    }
   ],
   "source": [
    "from housing.config.configuration import Configuration\n",
    "config = Configuration()"
   ]
  },
  {
   "cell_type": "code",
   "execution_count": null,
   "metadata": {},
   "outputs": [
    {
     "data": {
      "text/plain": [
       "TrainingPipelineConfig(artifact_dir='d:\\\\ML\\\\MLOps_house_price_project\\\\housing\\\\artifact')"
      ]
     },
     "execution_count": 8,
     "metadata": {},
     "output_type": "execute_result"
    }
   ],
   "source": [
    "config.get_training_pipeline_config()"
   ]
  },
  {
   "cell_type": "code",
   "execution_count": 10,
   "metadata": {},
   "outputs": [
    {
     "data": {
      "text/plain": [
       "TrainingPipelineConfig(artifact_dir='d:\\\\ML\\\\MLOps_house_price_project\\\\housing\\\\artifact')"
      ]
     },
     "execution_count": 10,
     "metadata": {},
     "output_type": "execute_result"
    }
   ],
   "source": [
    "config.get_training_pipeline_config()"
   ]
  },
  {
   "cell_type": "code",
   "execution_count": null,
   "metadata": {},
   "outputs": [
    {
     "data": {
      "text/plain": [
       "TrainingPipelineConfig(artifact_dir='d:\\\\ML\\\\MLOps_house_price_project\\\\housing\\\\artifact')"
      ]
     },
     "execution_count": 12,
     "metadata": {},
     "output_type": "execute_result"
    }
   ],
   "source": [
    "config.training_pipeline_config"
   ]
  },
  {
   "cell_type": "code",
   "execution_count": 13,
   "metadata": {},
   "outputs": [
    {
     "data": {
      "text/plain": [
       "'d:\\\\ML\\\\MLOps_house_price_project\\\\housing\\\\artifact'"
      ]
     },
     "execution_count": 13,
     "metadata": {},
     "output_type": "execute_result"
    }
   ],
   "source": [
    "config.training_pipeline_config.artifact_dir"
   ]
  },
  {
   "cell_type": "code",
   "execution_count": 15,
   "metadata": {},
   "outputs": [],
   "source": [
    "from housing.constant import *"
   ]
  },
  {
   "cell_type": "code",
   "execution_count": 16,
   "metadata": {},
   "outputs": [
    {
     "data": {
      "text/plain": [
       "'experiment'"
      ]
     },
     "execution_count": 16,
     "metadata": {},
     "output_type": "execute_result"
    }
   ],
   "source": [
    "EXPERIMENT_DIR_NAME"
   ]
  },
  {
   "cell_type": "code",
   "execution_count": 17,
   "metadata": {},
   "outputs": [],
   "source": [
    "os.makedirs(config.training_pipeline_config.artifact_dir, exist_ok=True)\n",
    "experiment_file_path=os.path.join(config.training_pipeline_config.artifact_dir,\n",
    "                                                       EXPERIMENT_DIR_NAME, EXPERIMENT_FILE_NAME)"
   ]
  },
  {
   "cell_type": "code",
   "execution_count": 18,
   "metadata": {},
   "outputs": [
    {
     "data": {
      "text/plain": [
       "'d:\\\\ML\\\\MLOps_house_price_project\\\\housing\\\\artifact\\\\experiment\\\\experiment.csv'"
      ]
     },
     "execution_count": 18,
     "metadata": {},
     "output_type": "execute_result"
    }
   ],
   "source": [
    "experiment_file_path"
   ]
  },
  {
   "cell_type": "code",
   "execution_count": 19,
   "metadata": {},
   "outputs": [
    {
     "data": {
      "text/plain": [
       "'2025-03-08-16-23-10'"
      ]
     },
     "execution_count": 19,
     "metadata": {},
     "output_type": "execute_result"
    }
   ],
   "source": [
    "config.time_stamp"
   ]
  },
  {
   "cell_type": "code",
   "execution_count": 20,
   "metadata": {},
   "outputs": [
    {
     "data": {
      "text/plain": [
       "datetime.datetime(2025, 3, 8, 16, 23, 24, 622780)"
      ]
     },
     "execution_count": 20,
     "metadata": {},
     "output_type": "execute_result"
    }
   ],
   "source": [
    "datetime.now()"
   ]
  },
  {
   "cell_type": "code",
   "execution_count": 21,
   "metadata": {},
   "outputs": [],
   "source": [
    "import uuid"
   ]
  },
  {
   "cell_type": "code",
   "execution_count": 22,
   "metadata": {},
   "outputs": [
    {
     "data": {
      "text/plain": [
       "'ec3507c7-b938-4802-88bf-17584937e983'"
      ]
     },
     "execution_count": 22,
     "metadata": {},
     "output_type": "execute_result"
    }
   ],
   "source": [
    "experiment_id = str(uuid.uuid4())\n",
    "experiment_id"
   ]
  },
  {
   "cell_type": "code",
   "execution_count": 23,
   "metadata": {},
   "outputs": [],
   "source": [
    "experiment = Experiment(experiment_id=experiment_id,\n",
    "                                             initialization_timestamp=config.time_stamp,\n",
    "                                             artifact_time_stamp=config.time_stamp,\n",
    "                                             running_status=True, # running_status = True by defult it setted as True\n",
    "                                             start_time=datetime.now(),\n",
    "                                             stop_time=None,\n",
    "                                             execution_time=None,\n",
    "                                             experiment_file_path=experiment_file_path,\n",
    "                                             is_model_accepted=None,\n",
    "                                             message=\"Pipeline has been started.\",\n",
    "                                             accuracy=None,\n",
    "                                             )"
   ]
  },
  {
   "cell_type": "code",
   "execution_count": 24,
   "metadata": {},
   "outputs": [
    {
     "data": {
      "text/plain": [
       "Experiment(experiment_id='ec3507c7-b938-4802-88bf-17584937e983', initialization_timestamp='2025-03-08-16-23-10', artifact_time_stamp='2025-03-08-16-23-10', running_status=True, start_time=datetime.datetime(2025, 3, 8, 16, 23, 27, 516232), stop_time=None, execution_time=None, message='Pipeline has been started.', experiment_file_path='d:\\\\ML\\\\MLOps_house_price_project\\\\housing\\\\artifact\\\\experiment\\\\experiment.csv', accuracy=None, is_model_accepted=None)"
      ]
     },
     "execution_count": 24,
     "metadata": {},
     "output_type": "execute_result"
    }
   ],
   "source": [
    "experiment"
   ]
  },
  {
   "cell_type": "code",
   "execution_count": 25,
   "metadata": {},
   "outputs": [
    {
     "data": {
      "text/plain": [
       "'ec3507c7-b938-4802-88bf-17584937e983'"
      ]
     },
     "execution_count": 25,
     "metadata": {},
     "output_type": "execute_result"
    }
   ],
   "source": [
    "experiment.experiment_id"
   ]
  },
  {
   "cell_type": "code",
   "execution_count": 55,
   "metadata": {},
   "outputs": [
    {
     "data": {
      "text/plain": [
       "'d:\\\\ML\\\\MLOps_house_price_project\\\\housing\\\\artifact\\\\experiment\\\\experiment.csv'"
      ]
     },
     "execution_count": 55,
     "metadata": {},
     "output_type": "execute_result"
    }
   ],
   "source": [
    "experiment.experiment_file_path"
   ]
  },
  {
   "cell_type": "code",
   "execution_count": 56,
   "metadata": {},
   "outputs": [
    {
     "data": {
      "text/plain": [
       "'experiment.csv'"
      ]
     },
     "execution_count": 56,
     "metadata": {},
     "output_type": "execute_result"
    }
   ],
   "source": [
    "os.path.basename(experiment.experiment_file_path)"
   ]
  },
  {
   "cell_type": "code",
   "execution_count": 26,
   "metadata": {},
   "outputs": [
    {
     "data": {
      "text/plain": [
       "{'experiment_id': 'ec3507c7-b938-4802-88bf-17584937e983',\n",
       " 'initialization_timestamp': '2025-03-08-16-23-10',\n",
       " 'artifact_time_stamp': '2025-03-08-16-23-10',\n",
       " 'running_status': True,\n",
       " 'start_time': datetime.datetime(2025, 3, 8, 16, 23, 27, 516232),\n",
       " 'stop_time': None,\n",
       " 'execution_time': None,\n",
       " 'message': 'Pipeline has been started.',\n",
       " 'experiment_file_path': 'd:\\\\ML\\\\MLOps_house_price_project\\\\housing\\\\artifact\\\\experiment\\\\experiment.csv',\n",
       " 'accuracy': None,\n",
       " 'is_model_accepted': None}"
      ]
     },
     "execution_count": 26,
     "metadata": {},
     "output_type": "execute_result"
    }
   ],
   "source": [
    "experiment_dictt = experiment._asdict()\n",
    "experiment_dictt"
   ]
  },
  {
   "cell_type": "code",
   "execution_count": 29,
   "metadata": {},
   "outputs": [
    {
     "ename": "ValueError",
     "evalue": "If using all scalar values, you must pass an index",
     "output_type": "error",
     "traceback": [
      "\u001b[1;31m---------------------------------------------------------------------------\u001b[0m",
      "\u001b[1;31mValueError\u001b[0m                                Traceback (most recent call last)",
      "Cell \u001b[1;32mIn[29], line 1\u001b[0m\n\u001b[1;32m----> 1\u001b[0m \u001b[43mpd\u001b[49m\u001b[38;5;241;43m.\u001b[39;49m\u001b[43mDataFrame\u001b[49m\u001b[43m(\u001b[49m\u001b[43mexperiment_dictt\u001b[49m\u001b[43m)\u001b[49m\n",
      "File \u001b[1;32md:\\ML\\MLOps_house_price_project\\venv\\lib\\site-packages\\pandas-2.2.3-py3.9-win-amd64.egg\\pandas\\core\\frame.py:778\u001b[0m, in \u001b[0;36mDataFrame.__init__\u001b[1;34m(self, data, index, columns, dtype, copy)\u001b[0m\n\u001b[0;32m    772\u001b[0m     mgr \u001b[38;5;241m=\u001b[39m \u001b[38;5;28mself\u001b[39m\u001b[38;5;241m.\u001b[39m_init_mgr(\n\u001b[0;32m    773\u001b[0m         data, axes\u001b[38;5;241m=\u001b[39m{\u001b[38;5;124m\"\u001b[39m\u001b[38;5;124mindex\u001b[39m\u001b[38;5;124m\"\u001b[39m: index, \u001b[38;5;124m\"\u001b[39m\u001b[38;5;124mcolumns\u001b[39m\u001b[38;5;124m\"\u001b[39m: columns}, dtype\u001b[38;5;241m=\u001b[39mdtype, copy\u001b[38;5;241m=\u001b[39mcopy\n\u001b[0;32m    774\u001b[0m     )\n\u001b[0;32m    776\u001b[0m \u001b[38;5;28;01melif\u001b[39;00m \u001b[38;5;28misinstance\u001b[39m(data, \u001b[38;5;28mdict\u001b[39m):\n\u001b[0;32m    777\u001b[0m     \u001b[38;5;66;03m# GH#38939 de facto copy defaults to False only in non-dict cases\u001b[39;00m\n\u001b[1;32m--> 778\u001b[0m     mgr \u001b[38;5;241m=\u001b[39m \u001b[43mdict_to_mgr\u001b[49m\u001b[43m(\u001b[49m\u001b[43mdata\u001b[49m\u001b[43m,\u001b[49m\u001b[43m \u001b[49m\u001b[43mindex\u001b[49m\u001b[43m,\u001b[49m\u001b[43m \u001b[49m\u001b[43mcolumns\u001b[49m\u001b[43m,\u001b[49m\u001b[43m \u001b[49m\u001b[43mdtype\u001b[49m\u001b[38;5;241;43m=\u001b[39;49m\u001b[43mdtype\u001b[49m\u001b[43m,\u001b[49m\u001b[43m \u001b[49m\u001b[43mcopy\u001b[49m\u001b[38;5;241;43m=\u001b[39;49m\u001b[43mcopy\u001b[49m\u001b[43m,\u001b[49m\u001b[43m \u001b[49m\u001b[43mtyp\u001b[49m\u001b[38;5;241;43m=\u001b[39;49m\u001b[43mmanager\u001b[49m\u001b[43m)\u001b[49m\n\u001b[0;32m    779\u001b[0m \u001b[38;5;28;01melif\u001b[39;00m \u001b[38;5;28misinstance\u001b[39m(data, ma\u001b[38;5;241m.\u001b[39mMaskedArray):\n\u001b[0;32m    780\u001b[0m     \u001b[38;5;28;01mfrom\u001b[39;00m\u001b[38;5;250m \u001b[39m\u001b[38;5;21;01mnumpy\u001b[39;00m\u001b[38;5;21;01m.\u001b[39;00m\u001b[38;5;21;01mma\u001b[39;00m\u001b[38;5;250m \u001b[39m\u001b[38;5;28;01mimport\u001b[39;00m mrecords\n",
      "File \u001b[1;32md:\\ML\\MLOps_house_price_project\\venv\\lib\\site-packages\\pandas-2.2.3-py3.9-win-amd64.egg\\pandas\\core\\internals\\construction.py:503\u001b[0m, in \u001b[0;36mdict_to_mgr\u001b[1;34m(data, index, columns, dtype, typ, copy)\u001b[0m\n\u001b[0;32m    499\u001b[0m     \u001b[38;5;28;01melse\u001b[39;00m:\n\u001b[0;32m    500\u001b[0m         \u001b[38;5;66;03m# dtype check to exclude e.g. range objects, scalars\u001b[39;00m\n\u001b[0;32m    501\u001b[0m         arrays \u001b[38;5;241m=\u001b[39m [x\u001b[38;5;241m.\u001b[39mcopy() \u001b[38;5;28;01mif\u001b[39;00m \u001b[38;5;28mhasattr\u001b[39m(x, \u001b[38;5;124m\"\u001b[39m\u001b[38;5;124mdtype\u001b[39m\u001b[38;5;124m\"\u001b[39m) \u001b[38;5;28;01melse\u001b[39;00m x \u001b[38;5;28;01mfor\u001b[39;00m x \u001b[38;5;129;01min\u001b[39;00m arrays]\n\u001b[1;32m--> 503\u001b[0m \u001b[38;5;28;01mreturn\u001b[39;00m \u001b[43marrays_to_mgr\u001b[49m\u001b[43m(\u001b[49m\u001b[43marrays\u001b[49m\u001b[43m,\u001b[49m\u001b[43m \u001b[49m\u001b[43mcolumns\u001b[49m\u001b[43m,\u001b[49m\u001b[43m \u001b[49m\u001b[43mindex\u001b[49m\u001b[43m,\u001b[49m\u001b[43m \u001b[49m\u001b[43mdtype\u001b[49m\u001b[38;5;241;43m=\u001b[39;49m\u001b[43mdtype\u001b[49m\u001b[43m,\u001b[49m\u001b[43m \u001b[49m\u001b[43mtyp\u001b[49m\u001b[38;5;241;43m=\u001b[39;49m\u001b[43mtyp\u001b[49m\u001b[43m,\u001b[49m\u001b[43m \u001b[49m\u001b[43mconsolidate\u001b[49m\u001b[38;5;241;43m=\u001b[39;49m\u001b[43mcopy\u001b[49m\u001b[43m)\u001b[49m\n",
      "File \u001b[1;32md:\\ML\\MLOps_house_price_project\\venv\\lib\\site-packages\\pandas-2.2.3-py3.9-win-amd64.egg\\pandas\\core\\internals\\construction.py:114\u001b[0m, in \u001b[0;36marrays_to_mgr\u001b[1;34m(arrays, columns, index, dtype, verify_integrity, typ, consolidate)\u001b[0m\n\u001b[0;32m    111\u001b[0m \u001b[38;5;28;01mif\u001b[39;00m verify_integrity:\n\u001b[0;32m    112\u001b[0m     \u001b[38;5;66;03m# figure out the index, if necessary\u001b[39;00m\n\u001b[0;32m    113\u001b[0m     \u001b[38;5;28;01mif\u001b[39;00m index \u001b[38;5;129;01mis\u001b[39;00m \u001b[38;5;28;01mNone\u001b[39;00m:\n\u001b[1;32m--> 114\u001b[0m         index \u001b[38;5;241m=\u001b[39m \u001b[43m_extract_index\u001b[49m\u001b[43m(\u001b[49m\u001b[43marrays\u001b[49m\u001b[43m)\u001b[49m\n\u001b[0;32m    115\u001b[0m     \u001b[38;5;28;01melse\u001b[39;00m:\n\u001b[0;32m    116\u001b[0m         index \u001b[38;5;241m=\u001b[39m ensure_index(index)\n",
      "File \u001b[1;32md:\\ML\\MLOps_house_price_project\\venv\\lib\\site-packages\\pandas-2.2.3-py3.9-win-amd64.egg\\pandas\\core\\internals\\construction.py:667\u001b[0m, in \u001b[0;36m_extract_index\u001b[1;34m(data)\u001b[0m\n\u001b[0;32m    664\u001b[0m         \u001b[38;5;28;01mraise\u001b[39;00m \u001b[38;5;167;01mValueError\u001b[39;00m(\u001b[38;5;124m\"\u001b[39m\u001b[38;5;124mPer-column arrays must each be 1-dimensional\u001b[39m\u001b[38;5;124m\"\u001b[39m)\n\u001b[0;32m    666\u001b[0m \u001b[38;5;28;01mif\u001b[39;00m \u001b[38;5;129;01mnot\u001b[39;00m indexes \u001b[38;5;129;01mand\u001b[39;00m \u001b[38;5;129;01mnot\u001b[39;00m raw_lengths:\n\u001b[1;32m--> 667\u001b[0m     \u001b[38;5;28;01mraise\u001b[39;00m \u001b[38;5;167;01mValueError\u001b[39;00m(\u001b[38;5;124m\"\u001b[39m\u001b[38;5;124mIf using all scalar values, you must pass an index\u001b[39m\u001b[38;5;124m\"\u001b[39m)\n\u001b[0;32m    669\u001b[0m \u001b[38;5;28;01mif\u001b[39;00m have_series:\n\u001b[0;32m    670\u001b[0m     index \u001b[38;5;241m=\u001b[39m union_indexes(indexes)\n",
      "\u001b[1;31mValueError\u001b[0m: If using all scalar values, you must pass an index"
     ]
    }
   ],
   "source": [
    "pd.DataFrame(experiment_dictt)"
   ]
  },
  {
   "cell_type": "code",
   "execution_count": 34,
   "metadata": {},
   "outputs": [
    {
     "data": {
      "text/plain": [
       "{'experiment_id': 'ec3507c7-b938-4802-88bf-17584937e983',\n",
       " 'initialization_timestamp': '2025-03-08-16-23-10',\n",
       " 'artifact_time_stamp': '2025-03-08-16-23-10',\n",
       " 'running_status': True,\n",
       " 'start_time': datetime.datetime(2025, 3, 8, 16, 23, 27, 516232),\n",
       " 'stop_time': None,\n",
       " 'execution_time': None,\n",
       " 'message': 'Pipeline has been started.',\n",
       " 'experiment_file_path': 'd:\\\\ML\\\\MLOps_house_price_project\\\\housing\\\\artifact\\\\experiment\\\\experiment.csv',\n",
       " 'accuracy': None,\n",
       " 'is_model_accepted': None}"
      ]
     },
     "execution_count": 34,
     "metadata": {},
     "output_type": "execute_result"
    }
   ],
   "source": [
    "experiment_dict = experiment._asdict()\n",
    "experiment_dict"
   ]
  },
  {
   "cell_type": "code",
   "execution_count": 35,
   "metadata": {},
   "outputs": [
    {
     "data": {
      "text/plain": [
       "dict_items([('experiment_id', 'ec3507c7-b938-4802-88bf-17584937e983'), ('initialization_timestamp', '2025-03-08-16-23-10'), ('artifact_time_stamp', '2025-03-08-16-23-10'), ('running_status', True), ('start_time', datetime.datetime(2025, 3, 8, 16, 23, 27, 516232)), ('stop_time', None), ('execution_time', None), ('message', 'Pipeline has been started.'), ('experiment_file_path', 'd:\\\\ML\\\\MLOps_house_price_project\\\\housing\\\\artifact\\\\experiment\\\\experiment.csv'), ('accuracy', None), ('is_model_accepted', None)])"
      ]
     },
     "execution_count": 35,
     "metadata": {},
     "output_type": "execute_result"
    }
   ],
   "source": [
    "experiment_dict.items()"
   ]
  },
  {
   "cell_type": "code",
   "execution_count": 43,
   "metadata": {},
   "outputs": [
    {
     "data": {
      "text/plain": [
       "{'experiment_id': ['ec3507c7-b938-4802-88bf-17584937e983'],\n",
       " 'initialization_timestamp': ['2025-03-08-16-23-10'],\n",
       " 'artifact_time_stamp': ['2025-03-08-16-23-10'],\n",
       " 'running_status': [True],\n",
       " 'start_time': [datetime.datetime(2025, 3, 8, 16, 23, 27, 516232)],\n",
       " 'stop_time': [None],\n",
       " 'execution_time': [None],\n",
       " 'message': ['Pipeline has been started.'],\n",
       " 'experiment_file_path': ['d:\\\\ML\\\\MLOps_house_price_project\\\\housing\\\\artifact\\\\experiment\\\\experiment.csv'],\n",
       " 'accuracy': [None],\n",
       " 'is_model_accepted': [None]}"
      ]
     },
     "execution_count": 43,
     "metadata": {},
     "output_type": "execute_result"
    }
   ],
   "source": [
    "experiment_dict = experiment._asdict()\n",
    "experiment_dict: dict = {key: [value] for key, value in experiment_dict.items()}\n",
    "experiment_dict"
   ]
  },
  {
   "cell_type": "code",
   "execution_count": null,
   "metadata": {},
   "outputs": [
    {
     "data": {
      "text/html": [
       "<div>\n",
       "<style scoped>\n",
       "    .dataframe tbody tr th:only-of-type {\n",
       "        vertical-align: middle;\n",
       "    }\n",
       "\n",
       "    .dataframe tbody tr th {\n",
       "        vertical-align: top;\n",
       "    }\n",
       "\n",
       "    .dataframe thead th {\n",
       "        text-align: right;\n",
       "    }\n",
       "</style>\n",
       "<table border=\"1\" class=\"dataframe\">\n",
       "  <thead>\n",
       "    <tr style=\"text-align: right;\">\n",
       "      <th></th>\n",
       "      <th>experiment_id</th>\n",
       "      <th>initialization_timestamp</th>\n",
       "      <th>artifact_time_stamp</th>\n",
       "      <th>running_status</th>\n",
       "      <th>start_time</th>\n",
       "      <th>stop_time</th>\n",
       "      <th>execution_time</th>\n",
       "      <th>message</th>\n",
       "      <th>experiment_file_path</th>\n",
       "      <th>accuracy</th>\n",
       "      <th>is_model_accepted</th>\n",
       "    </tr>\n",
       "  </thead>\n",
       "  <tbody>\n",
       "    <tr>\n",
       "      <th>0</th>\n",
       "      <td>ec3507c7-b938-4802-88bf-17584937e983</td>\n",
       "      <td>2025-03-08-16-23-10</td>\n",
       "      <td>2025-03-08-16-23-10</td>\n",
       "      <td>True</td>\n",
       "      <td>2025-03-08 16:23:27.516232</td>\n",
       "      <td>None</td>\n",
       "      <td>None</td>\n",
       "      <td>Pipeline has been started.</td>\n",
       "      <td>d:\\ML\\MLOps_house_price_project\\housing\\artifa...</td>\n",
       "      <td>None</td>\n",
       "      <td>None</td>\n",
       "    </tr>\n",
       "  </tbody>\n",
       "</table>\n",
       "</div>"
      ],
      "text/plain": [
       "                          experiment_id initialization_timestamp  \\\n",
       "0  ec3507c7-b938-4802-88bf-17584937e983      2025-03-08-16-23-10   \n",
       "\n",
       "   artifact_time_stamp  running_status                 start_time stop_time  \\\n",
       "0  2025-03-08-16-23-10            True 2025-03-08 16:23:27.516232      None   \n",
       "\n",
       "  execution_time                     message  \\\n",
       "0           None  Pipeline has been started.   \n",
       "\n",
       "                                experiment_file_path accuracy  \\\n",
       "0  d:\\ML\\MLOps_house_price_project\\housing\\artifa...     None   \n",
       "\n",
       "  is_model_accepted  \n",
       "0              None  "
      ]
     },
     "execution_count": 44,
     "metadata": {},
     "output_type": "execute_result"
    }
   ],
   "source": [
    "import pandas as pd\n",
    "pd.DataFrame(experiment_dict)"
   ]
  },
  {
   "cell_type": "code",
   "execution_count": 48,
   "metadata": {},
   "outputs": [
    {
     "data": {
      "text/plain": [
       "{'experiment_id': 'ec3507c7-b938-4802-88bf-17584937e983',\n",
       " 'initialization_timestamp': '2025-03-08-16-23-10',\n",
       " 'artifact_time_stamp': '2025-03-08-16-23-10',\n",
       " 'running_status': True,\n",
       " 'start_time': datetime.datetime(2025, 3, 8, 16, 23, 27, 516232),\n",
       " 'stop_time': None,\n",
       " 'execution_time': None,\n",
       " 'message': 'Pipeline has been started.',\n",
       " 'experiment_file_path': 'd:\\\\ML\\\\MLOps_house_price_project\\\\housing\\\\artifact\\\\experiment\\\\experiment.csv',\n",
       " 'accuracy': None,\n",
       " 'is_model_accepted': None}"
      ]
     },
     "execution_count": 48,
     "metadata": {},
     "output_type": "execute_result"
    }
   ],
   "source": [
    "experiment_dict = experiment._asdict()\n",
    "experiment_dict: dict = {key: value for key, value in experiment_dict.items()}\n",
    "experiment_dict\n"
   ]
  },
  {
   "cell_type": "code",
   "execution_count": 49,
   "metadata": {},
   "outputs": [
    {
     "data": {
      "text/plain": [
       "{'experiment_id': ['ec3507c7-b938-4802-88bf-17584937e983'],\n",
       " 'initialization_timestamp': ['2025-03-08-16-23-10'],\n",
       " 'artifact_time_stamp': ['2025-03-08-16-23-10'],\n",
       " 'running_status': [True],\n",
       " 'start_time': [datetime.datetime(2025, 3, 8, 16, 23, 27, 516232)],\n",
       " 'stop_time': [None],\n",
       " 'execution_time': [None],\n",
       " 'message': ['Pipeline has been started.'],\n",
       " 'experiment_file_path': ['d:\\\\ML\\\\MLOps_house_price_project\\\\housing\\\\artifact\\\\experiment\\\\experiment.csv'],\n",
       " 'accuracy': [None],\n",
       " 'is_model_accepted': [None]}"
      ]
     },
     "execution_count": 49,
     "metadata": {},
     "output_type": "execute_result"
    }
   ],
   "source": [
    "experiment_dict = experiment._asdict()\n",
    "experiment_dict: dict = {key: [value] for key, value in experiment_dict.items()}\n",
    "experiment_dict"
   ]
  },
  {
   "cell_type": "code",
   "execution_count": 52,
   "metadata": {},
   "outputs": [],
   "source": [
    "experiment_dict.update({\n",
    "                    \"created_time_stamp\": [datetime.now()],\n",
    "                    \"experiment_file_path\": [os.path.basename(experiment.experiment_file_path)]})"
   ]
  },
  {
   "cell_type": "code",
   "execution_count": 53,
   "metadata": {},
   "outputs": [
    {
     "data": {
      "text/plain": [
       "{'experiment_id': ['ec3507c7-b938-4802-88bf-17584937e983'],\n",
       " 'initialization_timestamp': ['2025-03-08-16-23-10'],\n",
       " 'artifact_time_stamp': ['2025-03-08-16-23-10'],\n",
       " 'running_status': [True],\n",
       " 'start_time': [datetime.datetime(2025, 3, 8, 16, 23, 27, 516232)],\n",
       " 'stop_time': [None],\n",
       " 'execution_time': [None],\n",
       " 'message': ['Pipeline has been started.'],\n",
       " 'experiment_file_path': ['experiment.csv'],\n",
       " 'accuracy': [None],\n",
       " 'is_model_accepted': [None],\n",
       " 'created_time_stamp': [datetime.datetime(2025, 3, 8, 16, 29, 55, 496781)]}"
      ]
     },
     "execution_count": 53,
     "metadata": {},
     "output_type": "execute_result"
    }
   ],
   "source": [
    "experiment_dict"
   ]
  },
  {
   "cell_type": "code",
   "execution_count": 59,
   "metadata": {},
   "outputs": [
    {
     "data": {
      "text/html": [
       "<div>\n",
       "<style scoped>\n",
       "    .dataframe tbody tr th:only-of-type {\n",
       "        vertical-align: middle;\n",
       "    }\n",
       "\n",
       "    .dataframe tbody tr th {\n",
       "        vertical-align: top;\n",
       "    }\n",
       "\n",
       "    .dataframe thead th {\n",
       "        text-align: right;\n",
       "    }\n",
       "</style>\n",
       "<table border=\"1\" class=\"dataframe\">\n",
       "  <thead>\n",
       "    <tr style=\"text-align: right;\">\n",
       "      <th></th>\n",
       "      <th>experiment_id</th>\n",
       "      <th>initialization_timestamp</th>\n",
       "      <th>artifact_time_stamp</th>\n",
       "      <th>running_status</th>\n",
       "      <th>start_time</th>\n",
       "      <th>stop_time</th>\n",
       "      <th>execution_time</th>\n",
       "      <th>message</th>\n",
       "      <th>experiment_file_path</th>\n",
       "      <th>accuracy</th>\n",
       "      <th>is_model_accepted</th>\n",
       "      <th>created_time_stamp</th>\n",
       "    </tr>\n",
       "  </thead>\n",
       "  <tbody>\n",
       "    <tr>\n",
       "      <th>0</th>\n",
       "      <td>ec3507c7-b938-4802-88bf-17584937e983</td>\n",
       "      <td>2025-03-08-16-23-10</td>\n",
       "      <td>2025-03-08-16-23-10</td>\n",
       "      <td>True</td>\n",
       "      <td>2025-03-08 16:23:27.516232</td>\n",
       "      <td>None</td>\n",
       "      <td>None</td>\n",
       "      <td>Pipeline has been started.</td>\n",
       "      <td>experiment.csv</td>\n",
       "      <td>None</td>\n",
       "      <td>None</td>\n",
       "      <td>2025-03-08 16:29:55.496781</td>\n",
       "    </tr>\n",
       "  </tbody>\n",
       "</table>\n",
       "</div>"
      ],
      "text/plain": [
       "                          experiment_id initialization_timestamp  \\\n",
       "0  ec3507c7-b938-4802-88bf-17584937e983      2025-03-08-16-23-10   \n",
       "\n",
       "   artifact_time_stamp  running_status                 start_time stop_time  \\\n",
       "0  2025-03-08-16-23-10            True 2025-03-08 16:23:27.516232      None   \n",
       "\n",
       "  execution_time                     message experiment_file_path accuracy  \\\n",
       "0           None  Pipeline has been started.       experiment.csv     None   \n",
       "\n",
       "  is_model_accepted         created_time_stamp  \n",
       "0              None 2025-03-08 16:29:55.496781  "
      ]
     },
     "execution_count": 59,
     "metadata": {},
     "output_type": "execute_result"
    }
   ],
   "source": [
    "experiment_report = pd.DataFrame(experiment_dict)\n",
    "experiment_report"
   ]
  },
  {
   "cell_type": "code",
   "execution_count": 61,
   "metadata": {},
   "outputs": [],
   "source": [
    "os.chdir(\"d:\\\\ML\\\\MLOps_house_price_project\\\\notebook\")"
   ]
  },
  {
   "cell_type": "code",
   "execution_count": 62,
   "metadata": {},
   "outputs": [
    {
     "data": {
      "text/plain": [
       "'d:\\\\ML\\\\MLOps_house_price_project\\\\notebook'"
      ]
     },
     "execution_count": 62,
     "metadata": {},
     "output_type": "execute_result"
    }
   ],
   "source": [
    "pwd"
   ]
  },
  {
   "cell_type": "code",
   "execution_count": 64,
   "metadata": {},
   "outputs": [
    {
     "data": {
      "text/plain": [
       "'d:\\\\ML\\\\MLOps_house_price_project\\\\housing\\\\artifact\\\\experiment\\\\experiment.csv'"
      ]
     },
     "execution_count": 64,
     "metadata": {},
     "output_type": "execute_result"
    }
   ],
   "source": [
    "experiment.experiment_file_path"
   ]
  },
  {
   "cell_type": "code",
   "execution_count": 67,
   "metadata": {},
   "outputs": [
    {
     "data": {
      "text/plain": [
       "'d:\\\\ML\\\\MLOps_house_price_project\\\\housing\\\\artifact\\\\experiment'"
      ]
     },
     "execution_count": 67,
     "metadata": {},
     "output_type": "execute_result"
    }
   ],
   "source": [
    "os.path.dirname(experiment_file_path)"
   ]
  },
  {
   "cell_type": "code",
   "execution_count": 66,
   "metadata": {},
   "outputs": [
    {
     "data": {
      "text/plain": [
       "'d:\\\\ML\\\\MLOps_house_price_project\\\\housing\\\\artifact\\\\experiment\\\\experiment.csv'"
      ]
     },
     "execution_count": 66,
     "metadata": {},
     "output_type": "execute_result"
    }
   ],
   "source": [
    "experiment_file_path"
   ]
  },
  {
   "cell_type": "code",
   "execution_count": 72,
   "metadata": {},
   "outputs": [
    {
     "data": {
      "text/html": [
       "<div>\n",
       "<style scoped>\n",
       "    .dataframe tbody tr th:only-of-type {\n",
       "        vertical-align: middle;\n",
       "    }\n",
       "\n",
       "    .dataframe tbody tr th {\n",
       "        vertical-align: top;\n",
       "    }\n",
       "\n",
       "    .dataframe thead th {\n",
       "        text-align: right;\n",
       "    }\n",
       "</style>\n",
       "<table border=\"1\" class=\"dataframe\">\n",
       "  <thead>\n",
       "    <tr style=\"text-align: right;\">\n",
       "      <th></th>\n",
       "      <th>experiment_id</th>\n",
       "      <th>initialization_timestamp</th>\n",
       "      <th>artifact_time_stamp</th>\n",
       "      <th>running_status</th>\n",
       "      <th>start_time</th>\n",
       "      <th>stop_time</th>\n",
       "      <th>execution_time</th>\n",
       "      <th>message</th>\n",
       "      <th>experiment_file_path</th>\n",
       "      <th>accuracy</th>\n",
       "      <th>is_model_accepted</th>\n",
       "      <th>created_time_stamp</th>\n",
       "    </tr>\n",
       "  </thead>\n",
       "  <tbody>\n",
       "    <tr>\n",
       "      <th>0</th>\n",
       "      <td>ec3507c7-b938-4802-88bf-17584937e983</td>\n",
       "      <td>2025-03-08-16-23-10</td>\n",
       "      <td>2025-03-08-16-23-10</td>\n",
       "      <td>True</td>\n",
       "      <td>2025-03-08 16:23:27.516232</td>\n",
       "      <td>None</td>\n",
       "      <td>None</td>\n",
       "      <td>Pipeline has been started.</td>\n",
       "      <td>experiment.csv</td>\n",
       "      <td>None</td>\n",
       "      <td>None</td>\n",
       "      <td>2025-03-08 16:29:55.496781</td>\n",
       "    </tr>\n",
       "  </tbody>\n",
       "</table>\n",
       "</div>"
      ],
      "text/plain": [
       "                          experiment_id initialization_timestamp  \\\n",
       "0  ec3507c7-b938-4802-88bf-17584937e983      2025-03-08-16-23-10   \n",
       "\n",
       "   artifact_time_stamp  running_status                 start_time stop_time  \\\n",
       "0  2025-03-08-16-23-10            True 2025-03-08 16:23:27.516232      None   \n",
       "\n",
       "  execution_time                     message experiment_file_path accuracy  \\\n",
       "0           None  Pipeline has been started.       experiment.csv     None   \n",
       "\n",
       "  is_model_accepted         created_time_stamp  \n",
       "0              None 2025-03-08 16:29:55.496781  "
      ]
     },
     "execution_count": 72,
     "metadata": {},
     "output_type": "execute_result"
    }
   ],
   "source": [
    "experiment_report"
   ]
  },
  {
   "cell_type": "code",
   "execution_count": 74,
   "metadata": {},
   "outputs": [],
   "source": [
    "os.makedirs(os.path.dirname(experiment_file_path), exist_ok=True)\n",
    "if os.path.exists(experiment_file_path):\n",
    "    experiment_report.to_csv(experiment_file_path, index=False, header=False, mode=\"a\")\n",
    "else:\n",
    "    experiment_report.to_csv(experiment_file_path, mode=\"w\", index=False, header=True)"
   ]
  },
  {
   "cell_type": "code",
   "execution_count": null,
   "metadata": {},
   "outputs": [],
   "source": []
  },
  {
   "cell_type": "code",
   "execution_count": null,
   "metadata": {},
   "outputs": [],
   "source": [
    "def save_experiment(self):\n",
    "        try:\n",
    "            if experiment.experiment_id is not None:\n",
    "                experiment = experiment\n",
    "                experiment_dict = experiment._asdict()\n",
    "                experiment_dict: dict = {key: [value] for key, value in experiment_dict.items()}\n",
    "\n",
    "                experiment_dict.update({\n",
    "                    \"created_time_stamp\": [datetime.now()],\n",
    "                    \"experiment_file_path\": [os.path.basename(Pipeline.experiment.experiment_file_path)]})\n",
    "\n",
    "                experiment_report = pd.DataFrame(experiment_dict)\n",
    "\n",
    "                os.makedirs(os.path.dirname(Pipeline.experiment_file_path), exist_ok=True)\n",
    "                if os.path.exists(Pipeline.experiment_file_path):\n",
    "                    experiment_report.to_csv(Pipeline.experiment_file_path, index=False, header=False, mode=\"a\")\n",
    "                else:\n",
    "                    experiment_report.to_csv(Pipeline.experiment_file_path, mode=\"w\", index=False, header=True)\n",
    "            else:\n",
    "                print(\"First start experiment\")\n",
    "        except Exception as e:\n",
    "            raise HousingException(e, sys) from e"
   ]
  }
 ],
 "metadata": {
  "kernelspec": {
   "display_name": "Python 3",
   "language": "python",
   "name": "python3"
  },
  "language_info": {
   "codemirror_mode": {
    "name": "ipython",
    "version": 3
   },
   "file_extension": ".py",
   "mimetype": "text/x-python",
   "name": "python",
   "nbconvert_exporter": "python",
   "pygments_lexer": "ipython3",
   "version": "3.9.0"
  }
 },
 "nbformat": 4,
 "nbformat_minor": 2
}
