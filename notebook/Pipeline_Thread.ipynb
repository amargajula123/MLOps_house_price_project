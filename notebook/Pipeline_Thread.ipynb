{
 "cells": [
  {
   "cell_type": "code",
   "execution_count": 1,
   "metadata": {},
   "outputs": [],
   "source": [
    "from threading import Thread  "
   ]
  },
  {
   "cell_type": "code",
   "execution_count": 2,
   "metadata": {},
   "outputs": [],
   "source": [
    "import time"
   ]
  },
  {
   "cell_type": "code",
   "execution_count": 3,
   "metadata": {},
   "outputs": [],
   "source": [
    "class DemoThread(Thread):\n",
    "    def __init__(self,*args,**kwargs):\n",
    "        super().__init__(daemon=False,name=\"demo_thread\")\n",
    "    \n",
    "    def print_msg(self):\n",
    "        time.sleep(1)\n",
    "        print(\"I was called by thread\")\n",
    "    \n",
    "    def run(self):\n",
    "        self.print_msg()"
   ]
  },
  {
   "cell_type": "code",
   "execution_count": null,
   "metadata": {},
   "outputs": [
    {
     "name": "stdout",
     "output_type": "stream",
     "text": [
      "Creating object of demo thread\n",
      "Starting demo thread\n",
      "Demo thread started\n",
      "I was called by thread\n",
      "Thread has completed\n"
     ]
    }
   ],
   "source": [
    "print(f\"Creating object of demo thread\")\n",
    "d = DemoThread()\n",
    "print(f\"Starting demo thread\")\n",
    "d.start() # this {\"start()\"} function internally start \"run()\" function this is how \"Thread\" class is designed\n",
    "          # of DemoThread class so the run function will again call internall function of it like {\"print_msg()\"}\n",
    "     \n",
    "print(f\"Demo thread started\")\n",
    "d.join()\n",
    "print(\"Thread has completed\")"
   ]
  },
  {
   "cell_type": "code",
   "execution_count": null,
   "metadata": {},
   "outputs": [
    {
     "name": "stdout",
     "output_type": "stream",
     "text": [
      "Creating object of demo thread\n",
      "Starting demo thread\n",
      "Demo thread started\n",
      "I was called by thread\n",
      "Thread has completed\n"
     ]
    }
   ],
   "source": [
    "# similarly\n",
    "\n",
    "class Pipeline(Thread):\n",
    "    def __init__(self,*args,**kwargs):\n",
    "        super().__init__(daemon=False,name=\"demo_thread\")\n",
    "    \n",
    "    def run_pipeline(self):\n",
    "        time.sleep(1)\n",
    "        print(\"I was called by thread\")\n",
    "    \n",
    "    def run(self):\n",
    "        self.run_pipeline()\n",
    "\n",
    "print(f\"Creating object of demo thread\")  # if we use this Thread class here what happens is our \n",
    "d = Pipeline()                            # traininng will run independently.\n",
    "print(f\"Starting demo thread\")\n",
    "d.start() \n",
    "print(f\"Demo thread started\")\n",
    "d.join()\n",
    "print(\"Thread has completed\")"
   ]
  },
  {
   "cell_type": "code",
   "execution_count": 6,
   "metadata": {},
   "outputs": [],
   "source": [
    "a = Pipeline()"
   ]
  },
  {
   "cell_type": "code",
   "execution_count": null,
   "metadata": {},
   "outputs": [
    {
     "name": "stdout",
     "output_type": "stream",
     "text": [
      "I was called by thread\n"
     ]
    }
   ],
   "source": [
    "a.start()\n",
    "a.join() # it actually wai for other thread "
   ]
  },
  {
   "cell_type": "code",
   "execution_count": 9,
   "metadata": {},
   "outputs": [
    {
     "name": "stdout",
     "output_type": "stream",
     "text": [
      "I am waiting for run_pipeline() to complete its work \n",
      "I was called by thread\n"
     ]
    }
   ],
   "source": [
    "a = Pipeline()\n",
    "a.start()\n",
    "print(\"I am waiting for run_pipeline() to complete its work \")\n",
    "a.join() "
   ]
  },
  {
   "cell_type": "code",
   "execution_count": 10,
   "metadata": {},
   "outputs": [
    {
     "name": "stdout",
     "output_type": "stream",
     "text": [
      "I was called by thread\n",
      "I am waiting for run_pipeline() to complete its work \n"
     ]
    }
   ],
   "source": [
    "a.run_pipeline()\n",
    "print(\"I am waiting for run_pipeline() to complete its work \")"
   ]
  },
  {
   "cell_type": "code",
   "execution_count": null,
   "metadata": {},
   "outputs": [],
   "source": [
    "# why we want this Thread class concept \n",
    "# Ans :=\n",
    "#    becoz i want to achive paralism.\n",
    "#    bcoz i want to execute my code simaltenniously like execute 2 block of code "
   ]
  },
  {
   "cell_type": "code",
   "execution_count": 14,
   "metadata": {},
   "outputs": [],
   "source": [
    "# similarly\n",
    "\n",
    "class Pipeline(Thread):\n",
    "    def __init__(self,*args,**kwargs):\n",
    "        super().__init__(daemon=False,name=\"demo_thread\")\n",
    "    \n",
    "    def run_pipeline(self):\n",
    "        time.sleep(10)\n",
    "        print(\"I was called by thread\")\n",
    "    \n",
    "    def run(self):\n",
    "        self.run_pipeline()"
   ]
  },
  {
   "cell_type": "code",
   "execution_count": 16,
   "metadata": {},
   "outputs": [
    {
     "name": "stdout",
     "output_type": "stream",
     "text": [
      "I am waiting for run_pipeline() to complete its work \n",
      "I was called by thread\n"
     ]
    }
   ],
   "source": [
    "a = Pipeline()\n",
    "a.start()\n",
    "print(\"I am waiting for run_pipeline() to complete its work \")\n",
    "a.join()"
   ]
  },
  {
   "cell_type": "code",
   "execution_count": 17,
   "metadata": {},
   "outputs": [
    {
     "name": "stdout",
     "output_type": "stream",
     "text": [
      "I was called by thread\n",
      "I am waiting for run_pipeline() to complete its work \n"
     ]
    }
   ],
   "source": [
    "a.run_pipeline()\n",
    "print(\"I am waiting for run_pipeline() to complete its work \")"
   ]
  },
  {
   "cell_type": "code",
   "execution_count": null,
   "metadata": {},
   "outputs": [],
   "source": []
  },
  {
   "cell_type": "code",
   "execution_count": null,
   "metadata": {},
   "outputs": [],
   "source": []
  },
  {
   "cell_type": "code",
   "execution_count": 29,
   "metadata": {},
   "outputs": [],
   "source": [
    "from collections import namedtuple\n",
    "Experiment = namedtuple(\"Experiment\", [\"experiment_id\" ,  \"initialization_timestamp\",  \"artifact_time_stamp\" ,\n",
    "                                       \"running_status\",  \"start_time\"              ,  \"stop_time\"           ,  \n",
    "                                       \"execution_time\",  \"message\"                 ,  \"experiment_file_path\",\n",
    "                                       \"accuracy\"      ,  \"is_model_accepted\" \n",
    "                                       ])"
   ]
  },
  {
   "cell_type": "code",
   "execution_count": null,
   "metadata": {},
   "outputs": [],
   "source": [
    "experiment:Experiment = Experiment(*([None] * 11))\n",
    "    "
   ]
  },
  {
   "cell_type": "code",
   "execution_count": 25,
   "metadata": {},
   "outputs": [
    {
     "data": {
      "text/plain": [
       "Experiment(experiment_id=None, initialization_timestamp=None, artifact_time_stamp=None, running_status=None, start_time=None, stop_time=None, execution_time=None, message=None, experiment_file_path=None, accuracy=None, is_model_accepted=None)"
      ]
     },
     "execution_count": 25,
     "metadata": {},
     "output_type": "execute_result"
    }
   ],
   "source": [
    "experiment"
   ]
  },
  {
   "cell_type": "code",
   "execution_count": 23,
   "metadata": {},
   "outputs": [
    {
     "data": {
      "text/plain": [
       "__main__.Experiment"
      ]
     },
     "execution_count": 23,
     "metadata": {},
     "output_type": "execute_result"
    }
   ],
   "source": [
    "Experiment"
   ]
  },
  {
   "cell_type": "code",
   "execution_count": 26,
   "metadata": {},
   "outputs": [
    {
     "data": {
      "text/plain": [
       "Experiment(experiment_id=None, initialization_timestamp=None, artifact_time_stamp=None, running_status=None, start_time=None, stop_time=None, execution_time=None, message=None, experiment_file_path=None, accuracy=None, is_model_accepted=None)"
      ]
     },
     "execution_count": 26,
     "metadata": {},
     "output_type": "execute_result"
    }
   ],
   "source": [
    "experiment = Experiment(*([None] * 11))\n",
    "experiment"
   ]
  },
  {
   "cell_type": "code",
   "execution_count": 6,
   "metadata": {},
   "outputs": [
    {
     "name": "stdout",
     "output_type": "stream",
     "text": [
      "housing_logs\\log_2025-03-08_11-44-12.log\n"
     ]
    }
   ],
   "source": [
    "from housing.config.configuration import Configuration"
   ]
  },
  {
   "cell_type": "code",
   "execution_count": 2,
   "metadata": {},
   "outputs": [],
   "source": [
    "import os"
   ]
  },
  {
   "cell_type": "code",
   "execution_count": 1,
   "metadata": {},
   "outputs": [
    {
     "data": {
      "text/plain": [
       "'d:\\\\ML\\\\MLOps_house_price_project\\\\notebook'"
      ]
     },
     "execution_count": 1,
     "metadata": {},
     "output_type": "execute_result"
    }
   ],
   "source": [
    "pwd"
   ]
  },
  {
   "cell_type": "code",
   "execution_count": 3,
   "metadata": {},
   "outputs": [],
   "source": [
    "os.chdir(\"d:\\\\ML\\\\MLOps_house_price_project\\\\\")"
   ]
  },
  {
   "cell_type": "code",
   "execution_count": 4,
   "metadata": {},
   "outputs": [
    {
     "data": {
      "text/plain": [
       "'d:\\\\ML\\\\MLOps_house_price_project'"
      ]
     },
     "execution_count": 4,
     "metadata": {},
     "output_type": "execute_result"
    }
   ],
   "source": [
    "pwd"
   ]
  },
  {
   "cell_type": "code",
   "execution_count": 7,
   "metadata": {},
   "outputs": [],
   "source": [
    "config = Configuration()"
   ]
  },
  {
   "cell_type": "code",
   "execution_count": 8,
   "metadata": {},
   "outputs": [
    {
     "data": {
      "text/plain": [
       "TrainingPipelineConfig(artifact_dir='d:\\\\ML\\\\MLOps_house_price_project\\\\housing\\\\artifact')"
      ]
     },
     "execution_count": 8,
     "metadata": {},
     "output_type": "execute_result"
    }
   ],
   "source": [
    "config.get_training_pipeline_config()"
   ]
  },
  {
   "cell_type": "code",
   "execution_count": 10,
   "metadata": {},
   "outputs": [
    {
     "data": {
      "text/plain": [
       "TrainingPipelineConfig(artifact_dir='d:\\\\ML\\\\MLOps_house_price_project\\\\housing\\\\artifact')"
      ]
     },
     "execution_count": 10,
     "metadata": {},
     "output_type": "execute_result"
    }
   ],
   "source": [
    "config.get_training_pipeline_config()"
   ]
  },
  {
   "cell_type": "code",
   "execution_count": null,
   "metadata": {},
   "outputs": [
    {
     "data": {
      "text/plain": [
       "TrainingPipelineConfig(artifact_dir='d:\\\\ML\\\\MLOps_house_price_project\\\\housing\\\\artifact')"
      ]
     },
     "execution_count": 12,
     "metadata": {},
     "output_type": "execute_result"
    }
   ],
   "source": [
    "config.training_pipeline_config"
   ]
  },
  {
   "cell_type": "code",
   "execution_count": 13,
   "metadata": {},
   "outputs": [
    {
     "data": {
      "text/plain": [
       "'d:\\\\ML\\\\MLOps_house_price_project\\\\housing\\\\artifact'"
      ]
     },
     "execution_count": 13,
     "metadata": {},
     "output_type": "execute_result"
    }
   ],
   "source": [
    "config.training_pipeline_config.artifact_dir"
   ]
  },
  {
   "cell_type": "code",
   "execution_count": 17,
   "metadata": {},
   "outputs": [],
   "source": [
    "from housing.constant import *"
   ]
  },
  {
   "cell_type": "code",
   "execution_count": 18,
   "metadata": {},
   "outputs": [
    {
     "data": {
      "text/plain": [
       "'experiment'"
      ]
     },
     "execution_count": 18,
     "metadata": {},
     "output_type": "execute_result"
    }
   ],
   "source": [
    "EXPERIMENT_DIR_NAME"
   ]
  },
  {
   "cell_type": "code",
   "execution_count": 26,
   "metadata": {},
   "outputs": [],
   "source": [
    "os.makedirs(config.training_pipeline_config.artifact_dir, exist_ok=True)\n",
    "experiment_file_path=os.path.join(config.training_pipeline_config.artifact_dir,\n",
    "                                                       EXPERIMENT_DIR_NAME, EXPERIMENT_FILE_NAME)"
   ]
  },
  {
   "cell_type": "code",
   "execution_count": 27,
   "metadata": {},
   "outputs": [
    {
     "data": {
      "text/plain": [
       "'d:\\\\ML\\\\MLOps_house_price_project\\\\housing\\\\artifact\\\\experiment\\\\experiment.csv'"
      ]
     },
     "execution_count": 27,
     "metadata": {},
     "output_type": "execute_result"
    }
   ],
   "source": [
    "experiment_file_path"
   ]
  },
  {
   "cell_type": "code",
   "execution_count": 25,
   "metadata": {},
   "outputs": [
    {
     "data": {
      "text/plain": [
       "'2025-03-08-11-44-13'"
      ]
     },
     "execution_count": 25,
     "metadata": {},
     "output_type": "execute_result"
    }
   ],
   "source": [
    "config.time_stamp"
   ]
  },
  {
   "cell_type": "code",
   "execution_count": 32,
   "metadata": {},
   "outputs": [
    {
     "data": {
      "text/plain": [
       "datetime.datetime(2025, 3, 8, 12, 16, 16, 288646)"
      ]
     },
     "execution_count": 32,
     "metadata": {},
     "output_type": "execute_result"
    }
   ],
   "source": [
    "datetime.now()"
   ]
  },
  {
   "cell_type": "code",
   "execution_count": 22,
   "metadata": {},
   "outputs": [],
   "source": [
    "import uuid"
   ]
  },
  {
   "cell_type": "code",
   "execution_count": 24,
   "metadata": {},
   "outputs": [
    {
     "data": {
      "text/plain": [
       "'643f9a34-bf2f-4106-a6d8-b6b6162c852d'"
      ]
     },
     "execution_count": 24,
     "metadata": {},
     "output_type": "execute_result"
    }
   ],
   "source": [
    "experiment_id = str(uuid.uuid4())\n",
    "experiment_id"
   ]
  },
  {
   "cell_type": "code",
   "execution_count": null,
   "metadata": {},
   "outputs": [],
   "source": [
    "experiment = Experiment(experiment_id=experiment_id,\n",
    "                                             initialization_timestamp=config.time_stamp,\n",
    "                                             artifact_time_stamp=config.time_stamp,\n",
    "                                             running_status=True, # running_status = True by defult it setted as True\n",
    "                                             start_time=datetime.now(),\n",
    "                                             stop_time=None,\n",
    "                                             execution_time=None,\n",
    "                                             experiment_file_path=experiment_file_path,\n",
    "                                             is_model_accepted=None,\n",
    "                                             message=\"Pipeline has been started.\",\n",
    "                                             accuracy=None,\n",
    "                                             )"
   ]
  },
  {
   "cell_type": "code",
   "execution_count": 33,
   "metadata": {},
   "outputs": [
    {
     "data": {
      "text/plain": [
       "Experiment(experiment_id='643f9a34-bf2f-4106-a6d8-b6b6162c852d', initialization_timestamp='2025-03-08-11-44-13', artifact_time_stamp='2025-03-08-11-44-13', running_status=True, start_time=datetime.datetime(2025, 3, 8, 12, 15, 58, 641518), stop_time=None, execution_time=None, message='Pipeline has been started.', experiment_file_path='d:\\\\ML\\\\MLOps_house_price_project\\\\housing\\\\artifact\\\\experiment\\\\experiment.csv', accuracy=None, is_model_accepted=None)"
      ]
     },
     "execution_count": 33,
     "metadata": {},
     "output_type": "execute_result"
    }
   ],
   "source": [
    "experiment"
   ]
  },
  {
   "cell_type": "code",
   "execution_count": null,
   "metadata": {},
   "outputs": [],
   "source": []
  }
 ],
 "metadata": {
  "kernelspec": {
   "display_name": "Python 3",
   "language": "python",
   "name": "python3"
  },
  "language_info": {
   "codemirror_mode": {
    "name": "ipython",
    "version": 3
   },
   "file_extension": ".py",
   "mimetype": "text/x-python",
   "name": "python",
   "nbconvert_exporter": "python",
   "pygments_lexer": "ipython3",
   "version": "3.9.0"
  }
 },
 "nbformat": 4,
 "nbformat_minor": 2
}
